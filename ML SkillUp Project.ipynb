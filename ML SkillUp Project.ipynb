{
 "cells": [
  {
   "cell_type": "markdown",
   "metadata": {},
   "source": [
    "<p style=\"text-align:center\">\n",
    "    <a href=\"https://skills.network/?utm_medium=Exinfluencer&utm_source=Exinfluencer&utm_content=000026UJ&utm_term=10006555&utm_id=NA-SkillsNetwork-Channel-SkillsNetworkCoursesIBMDeveloperSkillsNetworkML0101ENSkillsNetwork20718538-2022-01-01\" target=\"_blank\">\n",
    "    <img src=\"https://cf-courses-data.s3.us.cloud-object-storage.appdomain.cloud/assets/logos/SN_web_lightmode.png\" width=\"200\" alt=\"Skills Network Logo\"  />\n",
    "    </a>\n",
    "</p>\n",
    "\n",
    "<h1 align=\"center\"><font size=\"5\">Final Project: Classification with Python</font></h1>\n"
   ]
  },
  {
   "cell_type": "markdown",
   "metadata": {},
   "source": [
    "<h2>Table of Contents</h2>\n",
    "<div class=\"alert alert-block alert-info\" style=\"margin-top: 20px\">\n",
    "    <ul>\n",
    "    <li><a href=\"https://#Section_1\">Instructions</a></li>\n",
    "    <li><a href=\"https://#Section_2\">About the Data</a></li>\n",
    "    <li><a href=\"https://#Section_3\">Importing Data </a></li>\n",
    "    <li><a href=\"https://#Section_4\">Data Preprocessing</a> </li>\n",
    "    <li><a href=\"https://#Section_5\">Transforming Categorical Variables </a></li>\n",
    "    <li><a href=\"https://#Section_6\">Train and Test Data Split </a></li>\n",
    "    <li><a href=\"https://#Section_7\">Train Linear Regression, KNN, Decision Tree, Logistic Regression, and SVM models and return their appropriate accuracy scores</a></li>\n",
    "</a></li>\n",
    "</div>\n",
    "<p>Estimated Time Needed: <strong>180 min</strong></p>\n",
    "</div>\n",
    "\n",
    "<hr>\n"
   ]
  },
  {
   "cell_type": "markdown",
   "metadata": {},
   "source": [
    "# Instructions\n"
   ]
  },
  {
   "cell_type": "markdown",
   "metadata": {},
   "source": [
    "In this notebook, you will  practice all the classification algorithms that we learned in this course.\n",
    "\n",
    "After completing this notebook, you will need to upload it to the \"Submit Your Work and Review Your Peers\" section of the Final Project module.\n",
    "\n",
    "Below, is where we are going to use the classification algorithms to create a model based on our training data and evaluate our testing data using evaluation metrics learned in the course.\n",
    "\n",
    "We will use some of the algorithms taught in the course, specifically:\n",
    "\n",
    "1.  Linear Regression\n",
    "2.  KNN\n",
    "3.  Decision Trees\n",
    "4.  Logistic Regression\n",
    "5.  SVM\n",
    "\n",
    "We will evaluate our models using:\n",
    "\n",
    "1.  Accuracy Score\n",
    "2.  Jaccard Index\n",
    "3.  F1-Score\n",
    "4.  LogLoss\n",
    "5.  Mean Absolute Error\n",
    "6.  Mean Squared Error\n",
    "7.  R2-Score\n",
    "\n",
    "Finally, you will use your models to generate the report displaying the accuracy scores.\n"
   ]
  },
  {
   "cell_type": "markdown",
   "metadata": {},
   "source": [
    "# About The Dataset\n"
   ]
  },
  {
   "cell_type": "markdown",
   "metadata": {},
   "source": [
    "The original source of the data is Australian Government's Bureau of Meteorology and the latest data can be gathered from [http://www.bom.gov.au/climate/dwo/](http://www.bom.gov.au/climate/dwo/?utm_medium=Exinfluencer&utm_source=Exinfluencer&utm_content=000026UJ&utm_term=10006555&utm_id=NA-SkillsNetwork-Channel-SkillsNetworkCoursesIBMDeveloperSkillsNetworkML0101ENSkillsNetwork20718538-2022-01-01).\n",
    "\n",
    "The dataset to be used has extra columns like 'RainToday' and our target is 'RainTomorrow', which was gathered from the Rattle at [https://bitbucket.org/kayontoga/rattle/src/master/data/weatherAUS.RData](https://bitbucket.org/kayontoga/rattle/src/master/data/weatherAUS.RData?utm_medium=Exinfluencer&utm_source=Exinfluencer&utm_content=000026UJ&utm_term=10006555&utm_id=NA-SkillsNetwork-Channel-SkillsNetworkCoursesIBMDeveloperSkillsNetworkML0101ENSkillsNetwork20718538-2022-01-01)\n"
   ]
  },
  {
   "cell_type": "markdown",
   "metadata": {},
   "source": [
    "This dataset contains observations of weather metrics for each day from 2008 to 2017. The **weatherAUS.csv** dataset includes the following fields:\n",
    "\n",
    "| Field         | Description                                           | Unit            | Type   |\n",
    "| ------------- | ----------------------------------------------------- | --------------- | ------ |\n",
    "| Date          | Date of the Observation in YYYY-MM-DD                 | Date            | object |\n",
    "| Location      | Location of the Observation                           | Location        | object |\n",
    "| MinTemp       | Minimum temperature                                   | Celsius         | float  |\n",
    "| MaxTemp       | Maximum temperature                                   | Celsius         | float  |\n",
    "| Rainfall      | Amount of rainfall                                    | Millimeters     | float  |\n",
    "| Evaporation   | Amount of evaporation                                 | Millimeters     | float  |\n",
    "| Sunshine      | Amount of bright sunshine                             | hours           | float  |\n",
    "| WindGustDir   | Direction of the strongest gust                       | Compass Points  | object |\n",
    "| WindGustSpeed | Speed of the strongest gust                           | Kilometers/Hour | object |\n",
    "| WindDir9am    | Wind direction averaged of 10 minutes prior to 9am    | Compass Points  | object |\n",
    "| WindDir3pm    | Wind direction averaged of 10 minutes prior to 3pm    | Compass Points  | object |\n",
    "| WindSpeed9am  | Wind speed averaged of 10 minutes prior to 9am        | Kilometers/Hour | float  |\n",
    "| WindSpeed3pm  | Wind speed averaged of 10 minutes prior to 3pm        | Kilometers/Hour | float  |\n",
    "| Humidity9am   | Humidity at 9am                                       | Percent         | float  |\n",
    "| Humidity3pm   | Humidity at 3pm                                       | Percent         | float  |\n",
    "| Pressure9am   | Atmospheric pressure reduced to mean sea level at 9am | Hectopascal     | float  |\n",
    "| Pressure3pm   | Atmospheric pressure reduced to mean sea level at 3pm | Hectopascal     | float  |\n",
    "| Cloud9am      | Fraction of the sky obscured by cloud at 9am          | Eights          | float  |\n",
    "| Cloud3pm      | Fraction of the sky obscured by cloud at 3pm          | Eights          | float  |\n",
    "| Temp9am       | Temperature at 9am                                    | Celsius         | float  |\n",
    "| Temp3pm       | Temperature at 3pm                                    | Celsius         | float  |\n",
    "| RainToday     | If there was rain today                               | Yes/No          | object |\n",
    "| RISK_MM       | Amount of rain tomorrow                               | Millimeters     | float  |\n",
    "| RainTomorrow  | If there is rain tomorrow                             | Yes/No          | float  |\n",
    "\n",
    "Column definitions were gathered from [http://www.bom.gov.au/climate/dwo/IDCJDW0000.shtml](http://www.bom.gov.au/climate/dwo/IDCJDW0000.shtml?utm_medium=Exinfluencer&utm_source=Exinfluencer&utm_content=000026UJ&utm_term=10006555&utm_id=NA-SkillsNetwork-Channel-SkillsNetworkCoursesIBMDeveloperSkillsNetworkML0101ENSkillsNetwork20718538-2022-01-01)\n"
   ]
  },
  {
   "cell_type": "markdown",
   "metadata": {},
   "source": [
    "## **Import the required libraries**\n"
   ]
  },
  {
   "cell_type": "code",
   "execution_count": null,
   "metadata": {},
   "outputs": [],
   "source": [
    "# All Libraries required for this lab are listed below. The libraries pre-installed on Skills Network Labs are commented.\n",
    "# !mamba install -qy pandas==1.3.4 numpy==1.21.4 seaborn==0.9.0 matplotlib==3.5.0 scikit-learn==0.20.1\n",
    "# Note: If your environment doesn't support \"!mamba install\", use \"!pip install\""
   ]
  },
  {
   "cell_type": "code",
   "execution_count": 1,
   "metadata": {},
   "outputs": [],
   "source": [
    "# Surpress warnings:\n",
    "def warn(*args, **kwargs):\n",
    "    pass\n",
    "import warnings\n",
    "warnings.warn = warn"
   ]
  },
  {
   "cell_type": "code",
   "execution_count": 2,
   "metadata": {},
   "outputs": [],
   "source": [
    "import pandas as pd\n",
    "from sklearn.linear_model import LogisticRegression\n",
    "from sklearn.linear_model import LinearRegression\n",
    "from sklearn import preprocessing\n",
    "import numpy as np\n",
    "from sklearn.neighbors import KNeighborsClassifier\n",
    "from sklearn.model_selection import GridSearchCV\n",
    "from sklearn.model_selection import train_test_split\n",
    "from sklearn.neighbors import KNeighborsClassifier\n",
    "from sklearn.tree import DecisionTreeClassifier\n",
    "from sklearn import svm\n",
    "from sklearn.metrics import jaccard_score\n",
    "from sklearn.metrics import f1_score\n",
    "from sklearn.metrics import log_loss\n",
    "import matplotlib.pyplot as plt\n",
    "from sklearn.metrics import confusion_matrix, accuracy_score\n",
    "import sklearn.metrics as metrics"
   ]
  },
  {
   "cell_type": "markdown",
   "metadata": {},
   "source": [
    "### Importing the Dataset\n"
   ]
  },
  {
   "cell_type": "code",
   "execution_count": 3,
   "metadata": {},
   "outputs": [
    {
     "data": {
      "text/html": [
       "<div>\n",
       "<style scoped>\n",
       "    .dataframe tbody tr th:only-of-type {\n",
       "        vertical-align: middle;\n",
       "    }\n",
       "\n",
       "    .dataframe tbody tr th {\n",
       "        vertical-align: top;\n",
       "    }\n",
       "\n",
       "    .dataframe thead th {\n",
       "        text-align: right;\n",
       "    }\n",
       "</style>\n",
       "<table border=\"1\" class=\"dataframe\">\n",
       "  <thead>\n",
       "    <tr style=\"text-align: right;\">\n",
       "      <th></th>\n",
       "      <th>Date</th>\n",
       "      <th>MinTemp</th>\n",
       "      <th>MaxTemp</th>\n",
       "      <th>Rainfall</th>\n",
       "      <th>Evaporation</th>\n",
       "      <th>Sunshine</th>\n",
       "      <th>WindGustDir</th>\n",
       "      <th>WindGustSpeed</th>\n",
       "      <th>WindDir9am</th>\n",
       "      <th>WindDir3pm</th>\n",
       "      <th>...</th>\n",
       "      <th>Humidity9am</th>\n",
       "      <th>Humidity3pm</th>\n",
       "      <th>Pressure9am</th>\n",
       "      <th>Pressure3pm</th>\n",
       "      <th>Cloud9am</th>\n",
       "      <th>Cloud3pm</th>\n",
       "      <th>Temp9am</th>\n",
       "      <th>Temp3pm</th>\n",
       "      <th>RainToday</th>\n",
       "      <th>RainTomorrow</th>\n",
       "    </tr>\n",
       "  </thead>\n",
       "  <tbody>\n",
       "    <tr>\n",
       "      <th>0</th>\n",
       "      <td>2/1/2008</td>\n",
       "      <td>19.5</td>\n",
       "      <td>22.4</td>\n",
       "      <td>15.6</td>\n",
       "      <td>6.2</td>\n",
       "      <td>0.0</td>\n",
       "      <td>W</td>\n",
       "      <td>41</td>\n",
       "      <td>S</td>\n",
       "      <td>SSW</td>\n",
       "      <td>...</td>\n",
       "      <td>92</td>\n",
       "      <td>84</td>\n",
       "      <td>1017.6</td>\n",
       "      <td>1017.4</td>\n",
       "      <td>8</td>\n",
       "      <td>8</td>\n",
       "      <td>20.7</td>\n",
       "      <td>20.9</td>\n",
       "      <td>Yes</td>\n",
       "      <td>Yes</td>\n",
       "    </tr>\n",
       "    <tr>\n",
       "      <th>1</th>\n",
       "      <td>2/2/2008</td>\n",
       "      <td>19.5</td>\n",
       "      <td>25.6</td>\n",
       "      <td>6.0</td>\n",
       "      <td>3.4</td>\n",
       "      <td>2.7</td>\n",
       "      <td>W</td>\n",
       "      <td>41</td>\n",
       "      <td>W</td>\n",
       "      <td>E</td>\n",
       "      <td>...</td>\n",
       "      <td>83</td>\n",
       "      <td>73</td>\n",
       "      <td>1017.9</td>\n",
       "      <td>1016.4</td>\n",
       "      <td>7</td>\n",
       "      <td>7</td>\n",
       "      <td>22.4</td>\n",
       "      <td>24.8</td>\n",
       "      <td>Yes</td>\n",
       "      <td>Yes</td>\n",
       "    </tr>\n",
       "    <tr>\n",
       "      <th>2</th>\n",
       "      <td>2/3/2008</td>\n",
       "      <td>21.6</td>\n",
       "      <td>24.5</td>\n",
       "      <td>6.6</td>\n",
       "      <td>2.4</td>\n",
       "      <td>0.1</td>\n",
       "      <td>W</td>\n",
       "      <td>41</td>\n",
       "      <td>ESE</td>\n",
       "      <td>ESE</td>\n",
       "      <td>...</td>\n",
       "      <td>88</td>\n",
       "      <td>86</td>\n",
       "      <td>1016.7</td>\n",
       "      <td>1015.6</td>\n",
       "      <td>7</td>\n",
       "      <td>8</td>\n",
       "      <td>23.5</td>\n",
       "      <td>23.0</td>\n",
       "      <td>Yes</td>\n",
       "      <td>Yes</td>\n",
       "    </tr>\n",
       "    <tr>\n",
       "      <th>3</th>\n",
       "      <td>2/4/2008</td>\n",
       "      <td>20.2</td>\n",
       "      <td>22.8</td>\n",
       "      <td>18.8</td>\n",
       "      <td>2.2</td>\n",
       "      <td>0.0</td>\n",
       "      <td>W</td>\n",
       "      <td>41</td>\n",
       "      <td>NNE</td>\n",
       "      <td>E</td>\n",
       "      <td>...</td>\n",
       "      <td>83</td>\n",
       "      <td>90</td>\n",
       "      <td>1014.2</td>\n",
       "      <td>1011.8</td>\n",
       "      <td>8</td>\n",
       "      <td>8</td>\n",
       "      <td>21.4</td>\n",
       "      <td>20.9</td>\n",
       "      <td>Yes</td>\n",
       "      <td>Yes</td>\n",
       "    </tr>\n",
       "    <tr>\n",
       "      <th>4</th>\n",
       "      <td>2/5/2008</td>\n",
       "      <td>19.7</td>\n",
       "      <td>25.7</td>\n",
       "      <td>77.4</td>\n",
       "      <td>4.8</td>\n",
       "      <td>0.0</td>\n",
       "      <td>W</td>\n",
       "      <td>41</td>\n",
       "      <td>NNE</td>\n",
       "      <td>W</td>\n",
       "      <td>...</td>\n",
       "      <td>88</td>\n",
       "      <td>74</td>\n",
       "      <td>1008.3</td>\n",
       "      <td>1004.8</td>\n",
       "      <td>8</td>\n",
       "      <td>8</td>\n",
       "      <td>22.5</td>\n",
       "      <td>25.5</td>\n",
       "      <td>Yes</td>\n",
       "      <td>Yes</td>\n",
       "    </tr>\n",
       "  </tbody>\n",
       "</table>\n",
       "<p>5 rows × 22 columns</p>\n",
       "</div>"
      ],
      "text/plain": [
       "       Date  MinTemp  MaxTemp  Rainfall  Evaporation  Sunshine WindGustDir  \\\n",
       "0  2/1/2008     19.5     22.4      15.6          6.2       0.0           W   \n",
       "1  2/2/2008     19.5     25.6       6.0          3.4       2.7           W   \n",
       "2  2/3/2008     21.6     24.5       6.6          2.4       0.1           W   \n",
       "3  2/4/2008     20.2     22.8      18.8          2.2       0.0           W   \n",
       "4  2/5/2008     19.7     25.7      77.4          4.8       0.0           W   \n",
       "\n",
       "   WindGustSpeed WindDir9am WindDir3pm  ...  Humidity9am  Humidity3pm  \\\n",
       "0             41          S        SSW  ...           92           84   \n",
       "1             41          W          E  ...           83           73   \n",
       "2             41        ESE        ESE  ...           88           86   \n",
       "3             41        NNE          E  ...           83           90   \n",
       "4             41        NNE          W  ...           88           74   \n",
       "\n",
       "   Pressure9am  Pressure3pm  Cloud9am  Cloud3pm  Temp9am  Temp3pm  RainToday  \\\n",
       "0       1017.6       1017.4         8         8     20.7     20.9        Yes   \n",
       "1       1017.9       1016.4         7         7     22.4     24.8        Yes   \n",
       "2       1016.7       1015.6         7         8     23.5     23.0        Yes   \n",
       "3       1014.2       1011.8         8         8     21.4     20.9        Yes   \n",
       "4       1008.3       1004.8         8         8     22.5     25.5        Yes   \n",
       "\n",
       "   RainTomorrow  \n",
       "0           Yes  \n",
       "1           Yes  \n",
       "2           Yes  \n",
       "3           Yes  \n",
       "4           Yes  \n",
       "\n",
       "[5 rows x 22 columns]"
      ]
     },
     "execution_count": 3,
     "metadata": {},
     "output_type": "execute_result"
    }
   ],
   "source": [
    "df = pd.read_csv('https://cf-courses-data.s3.us.cloud-object-storage.appdomain.cloud/IBMDeveloperSkillsNetwork-ML0101EN-SkillUp/labs/ML-FinalAssignment/Weather_Data.csv')\n",
    "\n",
    "df.head()"
   ]
  },
  {
   "cell_type": "markdown",
   "metadata": {},
   "source": [
    "### Data Preprocessing\n"
   ]
  },
  {
   "cell_type": "markdown",
   "metadata": {},
   "source": [
    "#### Transforming Categorical Variables\n"
   ]
  },
  {
   "cell_type": "markdown",
   "metadata": {},
   "source": [
    "First, we need to convert categorical variables to binary variables. We will use pandas `get_dummies()` method for this.\n"
   ]
  },
  {
   "cell_type": "code",
   "execution_count": 4,
   "metadata": {},
   "outputs": [],
   "source": [
    "df_sydney_processed = pd.get_dummies(data=df, columns=['RainToday', 'WindGustDir', 'WindDir9am', 'WindDir3pm'])"
   ]
  },
  {
   "cell_type": "markdown",
   "metadata": {},
   "source": [
    "Next, we replace the values of the 'RainTomorrow' column changing them from a categorical column to a binary column. We do not use the `get_dummies` method because we would end up with two columns for 'RainTomorrow' and we do not want, since 'RainTomorrow' is our target.\n"
   ]
  },
  {
   "cell_type": "code",
   "execution_count": 5,
   "metadata": {},
   "outputs": [],
   "source": [
    "df_sydney_processed.replace(['No', 'Yes'], [0,1], inplace=True)"
   ]
  },
  {
   "cell_type": "markdown",
   "metadata": {},
   "source": [
    "### Training Data and Test Data\n"
   ]
  },
  {
   "cell_type": "markdown",
   "metadata": {},
   "source": [
    "Now, we set our 'features' or x values and our Y or target variable.\n"
   ]
  },
  {
   "cell_type": "code",
   "execution_count": 6,
   "metadata": {},
   "outputs": [],
   "source": [
    "df_sydney_processed.drop('Date',axis=1,inplace=True)"
   ]
  },
  {
   "cell_type": "code",
   "execution_count": 7,
   "metadata": {},
   "outputs": [],
   "source": [
    "df_sydney_processed = df_sydney_processed.astype(float)"
   ]
  },
  {
   "cell_type": "code",
   "execution_count": 8,
   "metadata": {},
   "outputs": [],
   "source": [
    "features = df_sydney_processed.drop(columns='RainTomorrow', axis=1)\n",
    "Y = df_sydney_processed['RainTomorrow']"
   ]
  },
  {
   "cell_type": "markdown",
   "metadata": {},
   "source": [
    "### Linear Regression\n"
   ]
  },
  {
   "cell_type": "markdown",
   "metadata": {},
   "source": [
    "#### Q1) Use the `train_test_split` function to split the `features` and `Y` dataframes with a `test_size` of `0.2` and the `random_state` set to `10`.\n"
   ]
  },
  {
   "cell_type": "code",
   "execution_count": 9,
   "metadata": {},
   "outputs": [],
   "source": [
    "#Enter Your Code, Execute and take the Screenshot\n",
    "x_train, x_test, y_train, y_test = train_test_split(features, Y, test_size = 0.2, random_state = 10)"
   ]
  },
  {
   "cell_type": "code",
   "execution_count": 10,
   "metadata": {},
   "outputs": [
    {
     "name": "stdout",
     "output_type": "stream",
     "text": [
      "Train set:  (2616, 66) (2616,)\n",
      "Test set:  (655, 66) (655,)\n"
     ]
    }
   ],
   "source": [
    "print(\"Train set: \", x_train.shape, y_train.shape)\n",
    "print(\"Test set: \", x_test.shape, y_test.shape)"
   ]
  },
  {
   "cell_type": "markdown",
   "metadata": {},
   "source": [
    "#### Q2) Create and train a Linear Regression model called LinearReg using the training data (`x_train`, `y_train`).\n"
   ]
  },
  {
   "cell_type": "code",
   "execution_count": null,
   "metadata": {},
   "outputs": [],
   "source": [
    "#Enter Your Code, Execute and take the Screenshot"
   ]
  },
  {
   "cell_type": "code",
   "execution_count": 11,
   "metadata": {},
   "outputs": [],
   "source": [
    "LinearReg = LinearRegression()"
   ]
  },
  {
   "cell_type": "code",
   "execution_count": 12,
   "metadata": {},
   "outputs": [],
   "source": [
    "x = np.asanyarray(x_train)\n",
    "y = np.asanyarray(y_train)"
   ]
  },
  {
   "cell_type": "code",
   "execution_count": 13,
   "metadata": {},
   "outputs": [
    {
     "data": {
      "text/plain": [
       "LinearRegression()"
      ]
     },
     "execution_count": 13,
     "metadata": {},
     "output_type": "execute_result"
    }
   ],
   "source": [
    "LinearReg.fit(x, y)"
   ]
  },
  {
   "cell_type": "markdown",
   "metadata": {},
   "source": [
    "#### Q3) Now use the `predict` method on the testing data (`x_test`) and save it to the array `predictions`.\n"
   ]
  },
  {
   "cell_type": "code",
   "execution_count": null,
   "metadata": {},
   "outputs": [],
   "source": [
    "#Enter Your Code, Execute and take the Screenshot"
   ]
  },
  {
   "cell_type": "code",
   "execution_count": 14,
   "metadata": {},
   "outputs": [],
   "source": [
    "predictions = LinearReg.predict(x_test)"
   ]
  },
  {
   "cell_type": "code",
   "execution_count": 15,
   "metadata": {
    "collapsed": true
   },
   "outputs": [
    {
     "name": "stdout",
     "output_type": "stream",
     "text": [
      "[ 1.31799698e-01  2.76132584e-01  9.78128433e-01  2.87443161e-01\n",
      "  1.32404327e-01  4.60447311e-01  3.56801987e-01  8.56393814e-01\n",
      "  6.75033569e-01  3.82118225e-02  4.83894348e-03  2.81173706e-01\n",
      "  3.39021683e-01  7.81135559e-02  6.26354218e-02  5.64472198e-01\n",
      " -6.16035461e-02  5.24116516e-01  1.53675079e-01  3.59670639e-01\n",
      "  6.05278015e-02  9.03545380e-01  4.67298508e-01  2.03338623e-01\n",
      " -7.11231232e-02  3.83918762e-01  5.36008835e-01 -2.28824615e-02\n",
      "  6.40230179e-01 -9.57584381e-02  3.78047943e-01  1.20317459e-01\n",
      " -1.81121826e-02  5.53779602e-02  5.63430786e-01  1.06303596e+00\n",
      " -6.71195984e-03  5.14377594e-01 -8.84094238e-02  6.92043304e-02\n",
      "  2.44636536e-02  8.71765137e-01  2.44724274e-01  3.94668579e-01\n",
      "  2.67499924e-01  4.46760178e-01 -4.75864410e-02  1.89367294e-01\n",
      "  7.76586533e-01  1.57684326e-01  3.92913818e-03 -5.19638062e-02\n",
      "  2.07389832e-01 -2.07866669e-01 -7.60803223e-02  2.49650955e-01\n",
      "  2.79283524e-01  6.02807999e-01  6.29640579e-01  4.90571976e-01\n",
      "  5.63869476e-02  1.05440140e-01  6.70097351e-01  7.64896393e-01\n",
      "  9.84725952e-02 -6.33316040e-02  4.13824081e-01  7.25097656e-02\n",
      "  2.49948502e-01  2.56494522e-01  3.77483368e-02 -6.88495636e-02\n",
      "  3.48199844e-01  1.73067093e-01  4.15422440e-01 -7.25650787e-02\n",
      "  3.41072083e-01  1.87009811e-01 -1.54884338e-01  7.99770355e-01\n",
      "  2.32425690e-01  2.37379074e-01  2.56105423e-01  1.03450775e-01\n",
      "  6.20721817e-01  1.29676819e-01  3.71440887e-01  4.83015060e-01\n",
      "  3.08256149e-01  1.19422913e-01  5.48744202e-02  1.12838745e-01\n",
      " -1.62431717e-01 -1.58029556e-01  7.29656219e-02  7.76412964e-01\n",
      "  8.42819214e-02  6.43083572e-01  1.21786118e-01  1.78026199e-01\n",
      "  3.05038452e-01  1.85485840e-01  1.13140106e+00  3.44478607e-01\n",
      "  8.26894760e-01  5.38911819e-01  2.74251938e-01  6.29405975e-01\n",
      " -6.72512054e-02  9.63529587e-01  5.61943054e-01  2.34947205e-02\n",
      "  1.05567932e-01  9.38758850e-02  8.16287994e-02  2.92127609e-01\n",
      "  5.55057526e-01  6.69288635e-02  4.25319672e-02  8.94546509e-04\n",
      "  1.37666702e-01 -2.18019485e-01  7.00359344e-02  1.19821548e-01\n",
      "  1.92657471e-01 -3.82995605e-02  1.55994415e-01  7.12562561e-01\n",
      "  2.62334824e-01  5.34914017e-01  3.97808075e-01 -4.65564728e-02\n",
      "  2.44058609e-01  2.06279755e-01  2.80427933e-01 -1.28253937e-01\n",
      "  1.19562149e-01  3.83314133e-01  1.84429169e-01  7.28578568e-01\n",
      "  3.31769943e-01 -1.03195190e-01  2.39599228e-01  3.06116104e-01\n",
      "  6.63105011e-01  2.20966339e-02  1.60005569e-01  5.21636963e-01\n",
      " -4.35009003e-02  7.98454285e-01  2.21752167e-01  3.89982224e-01\n",
      " -5.63869476e-02  4.02297974e-01  2.34176636e-01  1.20401382e-01\n",
      "  3.05589676e-01  7.86252975e-01  3.32660675e-02  1.22551155e+00\n",
      "  8.94716263e-01  8.17565918e-02 -1.52339935e-02  1.71001434e-01\n",
      " -6.85367584e-02 -1.07896805e-01 -5.02223969e-02  2.98666000e-01\n",
      "  3.57074738e-01  9.57050323e-02  8.85286331e-01 -3.33614349e-02\n",
      "  5.99203110e-01  8.95709991e-02  9.83905792e-02  3.54080200e-01\n",
      "  2.35979080e-01 -6.73313141e-02  1.44363403e-01  4.17839050e-01\n",
      "  5.87390900e-01  2.16789246e-01 -3.33194733e-02  1.00635910e+00\n",
      "  4.26273346e-02 -1.73530579e-02  2.48250961e-01 -5.93910217e-02\n",
      "  2.22188950e-01 -7.19318390e-02  8.47702026e-02  7.15045929e-02\n",
      "  3.48892212e-02  4.43483353e-01  1.86731339e-01  1.83151245e-01\n",
      "  7.56816864e-02  1.36547089e-02  1.84675217e-01  2.32290268e-01\n",
      "  5.30704498e-01  1.60366058e-01  3.95368576e-01 -4.49180603e-02\n",
      "  8.39225769e-01  1.66149139e-02 -1.70383453e-02 -2.14023590e-02\n",
      "  1.46455765e-01  1.38055801e-01 -3.33938599e-02  4.14899826e-01\n",
      "  6.57239914e-01 -4.99534607e-03  2.85816193e-02  4.60414886e-02\n",
      " -7.21473694e-02  2.73715973e-01  5.28642654e-01 -5.90934753e-02\n",
      "  8.43246460e-01  3.25824738e-01  3.18843842e-01  3.63025665e-02\n",
      " -8.51974487e-02  2.83411026e-01  3.01282883e-01  1.37741089e-01\n",
      "  3.35842133e-01  4.12517548e-01  3.75192642e-01  1.24113083e-01\n",
      "  2.87847519e-01  9.06290054e-01  4.45583344e-01  2.74785995e-01\n",
      " -6.61468506e-03  6.91823959e-01  6.71890259e-01  1.15434647e-01\n",
      "  7.74507523e-01  9.94363785e-01  5.87612152e-01  3.14268112e-01\n",
      "  2.26442337e-01 -4.47521210e-02  2.26037979e-01  2.30598450e-01\n",
      "  3.54951859e-01 -1.26604080e-01  3.52325439e-02  1.82313919e-01\n",
      "  2.15377808e-01  1.76174164e-01 -2.96878815e-02  1.00057983e+00\n",
      "  1.88261032e-01  7.52109528e-01  6.19840622e-01  7.17781067e-01\n",
      "  3.15692902e-01  2.22454071e-02  3.26427460e-01 -6.89506531e-03\n",
      "  2.81520844e-01 -2.28519440e-02  7.98950195e-02 -2.36129761e-03\n",
      "  3.57099533e-01  1.36461258e-01  2.65787125e-01  1.40590668e-02\n",
      "  2.21147537e-01  7.07374573e-01  1.59587860e-01  2.04534531e-01\n",
      "  5.38208008e-01 -1.52578354e-01  2.54858017e-01  2.76439667e-01\n",
      "  2.64030457e-01  6.69002533e-02  9.74351883e-01  2.00056076e-01\n",
      "  7.55655289e-01 -3.50036621e-02  4.87678528e-01  5.85937500e-03\n",
      " -7.24544525e-02  3.05696487e-01 -2.05032349e-01  1.90940857e-01\n",
      " -2.46143341e-02 -7.71980286e-02  2.78949738e-01  7.83863068e-02\n",
      "  2.33869553e-01  4.44885254e-01  6.62021637e-02 -3.31859589e-02\n",
      "  5.83156586e-01  5.77831268e-02  3.20520401e-01  7.24203110e-01\n",
      "  1.35419846e-01 -2.20947266e-02  7.33123779e-01 -3.08340073e-01\n",
      "  1.09138298e+00  2.86006927e-01  8.85068893e-01  6.96573257e-01\n",
      "  5.85186005e-01 -2.22606659e-02  9.52093124e-01  7.15007782e-01\n",
      "  4.48537827e-01  5.80453873e-01  1.87168121e-01  2.29593277e-01\n",
      " -5.77907562e-02  3.15244675e-01  8.74679565e-01 -1.67922974e-02\n",
      "  2.52582550e-01 -3.35445404e-02 -4.39929962e-02  4.12883759e-02\n",
      "  2.35918045e-01  2.03077316e-01  8.82001877e-01  5.87293625e-01\n",
      "  1.20084763e-01 -2.03151703e-02 -1.92928314e-02  1.03530884e-01\n",
      "  8.37898254e-03  2.29164124e-01 -1.69334412e-02  7.15198517e-02\n",
      "  1.62733078e-01  1.70101166e-01  2.46564865e-01  1.47777557e-01\n",
      "  3.91790390e-01 -6.66465759e-02  1.15638733e-01  1.84486389e-01\n",
      "  9.06505585e-02 -1.80015564e-02  2.09280014e-01 -1.31225586e-02\n",
      "  5.46483994e-01  4.15824890e-01  1.78165436e-01  1.71928406e-02\n",
      "  4.93886948e-01  1.47172928e-01  5.24740219e-01  5.98175049e-01\n",
      "  3.08359146e-01  3.09267044e-01  4.46506500e-01  1.68153763e-01\n",
      "  2.60717392e-01  7.56271362e-01  4.06209946e-01  4.90579605e-01\n",
      "  5.14230728e-01 -1.30285263e-01  7.91225433e-02  3.50524902e-01\n",
      "  1.00468254e+00  2.73469925e-01  6.35387421e-01  5.78617096e-01\n",
      "  4.68263626e-01  3.77655029e-03  3.59010696e-01  6.74400330e-02\n",
      " -4.24556732e-02  7.03298569e-01  1.27195358e-01  8.00111771e-01\n",
      "  4.70853806e-01 -1.74217224e-02  2.92510986e-02  5.55238724e-01\n",
      "  5.01613617e-02  1.15266800e-01 -9.75036621e-03  1.47548676e-01\n",
      "  4.71179962e-01 -9.27028656e-02  8.09383392e-02  3.10916901e-02\n",
      "  3.94781113e-01  2.23726273e-01  1.00331306e+00  7.08044052e-01\n",
      "  3.55981827e-01  2.62920380e-01 -2.83851624e-02 -9.62829590e-03\n",
      "  3.09638977e-02  1.41721725e-01  7.82089233e-02  5.12571335e-01\n",
      "  2.04866409e-01  3.11687469e-01  5.28495789e-01  4.61896896e-01\n",
      "  5.35430908e-02  8.17201614e-01  5.33916473e-01 -1.38189316e-01\n",
      "  5.09317398e-01  1.94044113e-01  4.56209183e-01  1.85213089e-01\n",
      "  2.21981049e-01  1.15530014e-01  6.33411407e-02  7.37228394e-02\n",
      "  1.02460861e-01  5.51504135e-01  7.02939987e-01  5.22089005e-01\n",
      "  5.35087585e-01  3.19137573e-02  1.11181259e-01 -1.18631363e-01\n",
      "  5.31873703e-01 -1.74385071e-01  4.54454422e-01  9.74384308e-01\n",
      "  4.18222427e-01 -1.16003036e-01  8.70656967e-01  1.62208557e-01\n",
      "  6.13096237e-01  3.17132950e-01 -7.86743164e-02  4.94012833e-01\n",
      "  7.44924545e-01  6.04629517e-02  6.03427887e-02  2.36814499e-01\n",
      "  5.79206467e-01  1.10836029e-01  3.81849289e-01  6.02209091e-01\n",
      "  5.84316254e-02  2.21805573e-01  3.89036179e-01  6.63694382e-01\n",
      "  1.56124115e-01  3.97344589e-01  5.80148697e-01  5.03702164e-01\n",
      "  1.06389999e-01  1.49766922e-01  2.33243942e-01 -3.36074829e-03\n",
      " -2.86445618e-02  2.65922546e-01  2.60534286e-01 -6.16798401e-02\n",
      "  1.46209717e-01  8.24790955e-01  5.68574905e-01 -9.55848694e-02\n",
      " -1.02493286e-01  8.48388672e-02  1.61590576e-01 -7.92369843e-02\n",
      "  9.43941116e-01  7.93552399e-02  3.38394165e-01  1.57911301e-01\n",
      " -6.93988800e-02  2.15078354e-01  4.78879929e-01  2.15492249e-02\n",
      "  5.34427643e-01  1.42562866e-01 -1.58330917e-01  1.00212097e-02\n",
      "  2.26747513e-01  3.34745407e-01  6.04000092e-02 -2.08892822e-02\n",
      " -1.07894897e-01  3.34289551e-01  5.10192871e-01  3.45973969e-01\n",
      " -8.66813660e-02 -4.99248505e-02  5.05315781e-01  8.22544098e-02\n",
      "  6.75106049e-02  3.23093414e-01  3.38315964e-01  5.37361145e-01\n",
      "  2.91831970e-01  3.30532074e-01 -4.10156250e-02  8.27455521e-01\n",
      "  6.03441238e-01  2.36793518e-01  7.02344894e-01  4.44660187e-01\n",
      "  5.81165314e-01  1.90032959e-01  5.45539856e-02  9.38072205e-02\n",
      " -6.77604675e-02  1.06065750e-01 -2.49271393e-02 -2.94494629e-02\n",
      "  6.55918121e-02  9.60617065e-02  1.03305817e-01  1.77721024e-01\n",
      "  1.02218628e-01  6.64117813e-01  1.97711945e-01  1.04722977e-01\n",
      "  1.13384247e-01 -3.25126648e-02  1.46636963e-01  4.64963913e-01\n",
      "  7.55525589e-01  2.03943253e-01  4.90140915e-01 -1.01320267e-01\n",
      "  6.61666870e-01  7.53484726e-01  9.00972366e-01  7.72920609e-01\n",
      "  2.73431778e-01  2.98036575e-01  1.87145233e-01  7.19940186e-01\n",
      "  2.29887009e-01  3.34737778e-01  8.51560593e-01  3.06911469e-02\n",
      " -3.71360779e-03 -7.82165527e-02  7.49830246e-01  2.04658508e-01\n",
      "  4.06064987e-01  3.32298279e-01  1.82041168e-01  8.23343277e-01\n",
      "  5.03129959e-01  6.34006500e-01 -5.08460999e-02  4.25682068e-02\n",
      "  1.11166000e-01  1.89180374e-01  6.01013184e-01  4.09067154e-01\n",
      "  6.87742233e-01  2.89892197e-01 -9.21096802e-02  4.47158813e-02\n",
      "  1.98965073e-01  6.18854523e-01  1.41881943e-01  6.98835373e-01\n",
      "  3.11878204e-01  1.26878738e-01  8.11468124e-01  6.24179840e-02\n",
      " -1.04528427e-01  6.59103394e-02  1.23725891e-01  5.18766403e-01\n",
      " -5.96790314e-02  6.39753342e-01 -1.29776001e-02  3.84426117e-02\n",
      " -1.04944229e-01  1.96500778e-01  3.36141586e-01  4.88000870e-01\n",
      "  1.93815231e-01  7.93272018e-01  1.69441223e-01  8.56113434e-02\n",
      "  1.68624878e-01  1.73240662e-01  3.23104858e-02  4.69244003e-01\n",
      "  2.03063965e-01  8.46805573e-01  4.20797348e-01  2.17908859e-01\n",
      "  1.81150436e-01  1.54888153e-01  7.26369858e-01  4.45259094e-01\n",
      "  4.87480164e-01  1.01560593e-01  4.13072586e-01 -1.13286972e-01\n",
      "  1.79351807e-01 -9.81712341e-03  1.39083862e-01  1.12031937e-01\n",
      "  6.09525681e-01  2.16083527e-02  1.88322067e-01 -1.35362625e-01\n",
      "  7.06451416e-01  4.33097839e-01 -5.84201813e-02  9.28733826e-01\n",
      "  5.40496826e-01 -1.68991089e-03  9.19040680e-01 -2.18982697e-02\n",
      "  1.65447235e-01  1.77860260e-01  4.72890854e-01 -2.85530090e-03\n",
      "  4.00320053e-01  1.41639709e-02  1.95362091e-01 -6.80713654e-02\n",
      "  5.87236404e-01  1.92481995e-01  2.33350754e-01  2.73698807e-01\n",
      "  9.40658569e-01  7.10184097e-01  1.33424759e-01  7.37895966e-02\n",
      "  5.58643341e-02 -2.26388931e-01  4.11186218e-02  5.17959595e-02\n",
      "  3.10707092e-02  2.93666840e-01  9.69348907e-01  7.98633575e-01\n",
      " -2.30140686e-02  5.26638031e-02  2.64812469e-01  1.75165176e-01\n",
      "  7.06335068e-01  1.73856735e-01  3.44327927e-01]\n"
     ]
    }
   ],
   "source": [
    "print(predictions)"
   ]
  },
  {
   "cell_type": "markdown",
   "metadata": {},
   "source": [
    "#### Q4) Using the `predictions` and the `y_test` dataframe calculate the value for each metric using the appropriate function.\n"
   ]
  },
  {
   "cell_type": "code",
   "execution_count": 16,
   "metadata": {},
   "outputs": [],
   "source": [
    "#Enter Your Code, Execute and take the Screenshot\n",
    "test_x = np.asanyarray(x_test)\n",
    "test_y = np.asanyarray(y_test)\n",
    "yhat_arr = np.asanyarray(predictions)"
   ]
  },
  {
   "cell_type": "code",
   "execution_count": 17,
   "metadata": {},
   "outputs": [],
   "source": [
    "from sklearn.metrics import r2_score"
   ]
  },
  {
   "cell_type": "code",
   "execution_count": 18,
   "metadata": {},
   "outputs": [],
   "source": [
    "LinearRegression_MAE = np.mean(np.absolute(yhat_arr - test_y))\n",
    "LinearRegression_MSE = np.mean((yhat_arr - test_y) ** 2)\n",
    "LinearRegression_R2 = r2_score(test_y, yhat_arr)"
   ]
  },
  {
   "cell_type": "code",
   "execution_count": 19,
   "metadata": {},
   "outputs": [
    {
     "name": "stdout",
     "output_type": "stream",
     "text": [
      "Mean Absolute Error(MAE):  0.26\n",
      "Residual Sum of Squares(MSE):  0.12\n",
      "R2 Score:  0.43\n"
     ]
    }
   ],
   "source": [
    "print(\"Mean Absolute Error(MAE):  %.2f\" % LinearRegression_MAE)\n",
    "print(\"Residual Sum of Squares(MSE):  %.2f\" % LinearRegression_MSE)\n",
    "print(\"R2 Score:  %.2f\" % LinearRegression_R2)\n"
   ]
  },
  {
   "cell_type": "markdown",
   "metadata": {},
   "source": [
    "#### Q5) Show the MAE, MSE, and R2 in a tabular format using data frame for the linear model.\n"
   ]
  },
  {
   "cell_type": "code",
   "execution_count": null,
   "metadata": {},
   "outputs": [],
   "source": [
    "#Enter Your Code, Execute and take the Screenshot"
   ]
  },
  {
   "cell_type": "code",
   "execution_count": 20,
   "metadata": {},
   "outputs": [],
   "source": [
    "Report = {'MAE' : [LinearRegression_MAE], 'MSE': [LinearRegression_MSE], 'R2': [LinearRegression_R2]}"
   ]
  },
  {
   "cell_type": "code",
   "execution_count": 21,
   "metadata": {},
   "outputs": [],
   "source": [
    "reportdf = pd.DataFrame(data = Report)"
   ]
  },
  {
   "cell_type": "code",
   "execution_count": 22,
   "metadata": {},
   "outputs": [
    {
     "data": {
      "text/html": [
       "<div>\n",
       "<style scoped>\n",
       "    .dataframe tbody tr th:only-of-type {\n",
       "        vertical-align: middle;\n",
       "    }\n",
       "\n",
       "    .dataframe tbody tr th {\n",
       "        vertical-align: top;\n",
       "    }\n",
       "\n",
       "    .dataframe thead th {\n",
       "        text-align: right;\n",
       "    }\n",
       "</style>\n",
       "<table border=\"1\" class=\"dataframe\">\n",
       "  <thead>\n",
       "    <tr style=\"text-align: right;\">\n",
       "      <th></th>\n",
       "      <th>MAE</th>\n",
       "      <th>MSE</th>\n",
       "      <th>R2</th>\n",
       "    </tr>\n",
       "  </thead>\n",
       "  <tbody>\n",
       "    <tr>\n",
       "      <th>0</th>\n",
       "      <td>0.256322</td>\n",
       "      <td>0.115722</td>\n",
       "      <td>0.427125</td>\n",
       "    </tr>\n",
       "  </tbody>\n",
       "</table>\n",
       "</div>"
      ],
      "text/plain": [
       "        MAE       MSE        R2\n",
       "0  0.256322  0.115722  0.427125"
      ]
     },
     "execution_count": 22,
     "metadata": {},
     "output_type": "execute_result"
    }
   ],
   "source": [
    "reportdf"
   ]
  },
  {
   "cell_type": "code",
   "execution_count": 23,
   "metadata": {},
   "outputs": [],
   "source": [
    "index={0: 'LinearRegression'}"
   ]
  },
  {
   "cell_type": "code",
   "execution_count": 24,
   "metadata": {},
   "outputs": [
    {
     "data": {
      "text/html": [
       "<div>\n",
       "<style scoped>\n",
       "    .dataframe tbody tr th:only-of-type {\n",
       "        vertical-align: middle;\n",
       "    }\n",
       "\n",
       "    .dataframe tbody tr th {\n",
       "        vertical-align: top;\n",
       "    }\n",
       "\n",
       "    .dataframe thead th {\n",
       "        text-align: right;\n",
       "    }\n",
       "</style>\n",
       "<table border=\"1\" class=\"dataframe\">\n",
       "  <thead>\n",
       "    <tr style=\"text-align: right;\">\n",
       "      <th></th>\n",
       "      <th>MAE</th>\n",
       "      <th>MSE</th>\n",
       "      <th>R2</th>\n",
       "    </tr>\n",
       "  </thead>\n",
       "  <tbody>\n",
       "    <tr>\n",
       "      <th>LinearRegression</th>\n",
       "      <td>0.256322</td>\n",
       "      <td>0.115722</td>\n",
       "      <td>0.427125</td>\n",
       "    </tr>\n",
       "  </tbody>\n",
       "</table>\n",
       "</div>"
      ],
      "text/plain": [
       "                       MAE       MSE        R2\n",
       "LinearRegression  0.256322  0.115722  0.427125"
      ]
     },
     "execution_count": 24,
     "metadata": {},
     "output_type": "execute_result"
    }
   ],
   "source": [
    "reportdf.rename(index = index)"
   ]
  },
  {
   "cell_type": "markdown",
   "metadata": {},
   "source": [
    "### KNN\n"
   ]
  },
  {
   "cell_type": "markdown",
   "metadata": {},
   "source": [
    "#### Q6) Create and train a KNN model called KNN using the training data (`x_train`, `y_train`) with the `n_neighbors` parameter set to `4`.\n"
   ]
  },
  {
   "cell_type": "code",
   "execution_count": 25,
   "metadata": {},
   "outputs": [],
   "source": [
    "#Enter Your Code, Execute and take the Screenshot\n",
    "k = 4"
   ]
  },
  {
   "cell_type": "code",
   "execution_count": 26,
   "metadata": {},
   "outputs": [],
   "source": [
    "KNN = KNeighborsClassifier(n_neighbors = k)"
   ]
  },
  {
   "cell_type": "code",
   "execution_count": 27,
   "metadata": {},
   "outputs": [],
   "source": [
    "KNN_model = KNN.fit(x_train, y_train)"
   ]
  },
  {
   "cell_type": "markdown",
   "metadata": {},
   "source": [
    "#### Q7) Now use the `predict` method on the testing data (`x_test`) and save it to the array `predictions`.\n"
   ]
  },
  {
   "cell_type": "code",
   "execution_count": null,
   "metadata": {},
   "outputs": [],
   "source": [
    "#Enter Your Code, Execute and take the Screenshot\n"
   ]
  },
  {
   "cell_type": "code",
   "execution_count": 28,
   "metadata": {},
   "outputs": [],
   "source": [
    "predictions = KNN_model.predict(x_test)"
   ]
  },
  {
   "cell_type": "code",
   "execution_count": 29,
   "metadata": {},
   "outputs": [
    {
     "data": {
      "text/plain": [
       "array([0., 0., 1., 0., 0.])"
      ]
     },
     "execution_count": 29,
     "metadata": {},
     "output_type": "execute_result"
    }
   ],
   "source": [
    "predictions[0:5]"
   ]
  },
  {
   "cell_type": "markdown",
   "metadata": {},
   "source": [
    "#### Q8) Using the `predictions` and the `y_test` dataframe calculate the value for each metric using the appropriate function.\n"
   ]
  },
  {
   "cell_type": "code",
   "execution_count": null,
   "metadata": {},
   "outputs": [],
   "source": [
    "#Enter Your Code, Execute and take the Screenshot"
   ]
  },
  {
   "cell_type": "code",
   "execution_count": 30,
   "metadata": {},
   "outputs": [],
   "source": [
    "KNN_Accuracy_Score = metrics.accuracy_score(y_test, predictions)\n",
    "KNN_JaccardIndex = jaccard_score(y_test, predictions)\n",
    "KNN_F1_Score = metrics.f1_score(y_test, predictions)"
   ]
  },
  {
   "cell_type": "code",
   "execution_count": 31,
   "metadata": {},
   "outputs": [],
   "source": [
    "Report1 = {'Accuracy' : [KNN_Accuracy_Score], 'Jaccard Index': [KNN_JaccardIndex], 'F1 Score': [KNN_F1_Score]}"
   ]
  },
  {
   "cell_type": "code",
   "execution_count": 32,
   "metadata": {},
   "outputs": [],
   "source": [
    "index1={0: 'KNN'}"
   ]
  },
  {
   "cell_type": "code",
   "execution_count": 33,
   "metadata": {},
   "outputs": [],
   "source": [
    "reportdf1 = pd.DataFrame(data = Report1)"
   ]
  },
  {
   "cell_type": "code",
   "execution_count": 34,
   "metadata": {},
   "outputs": [],
   "source": [
    "reportdf1.rename(index = index1, inplace = True)"
   ]
  },
  {
   "cell_type": "code",
   "execution_count": 35,
   "metadata": {},
   "outputs": [
    {
     "data": {
      "text/html": [
       "<div>\n",
       "<style scoped>\n",
       "    .dataframe tbody tr th:only-of-type {\n",
       "        vertical-align: middle;\n",
       "    }\n",
       "\n",
       "    .dataframe tbody tr th {\n",
       "        vertical-align: top;\n",
       "    }\n",
       "\n",
       "    .dataframe thead th {\n",
       "        text-align: right;\n",
       "    }\n",
       "</style>\n",
       "<table border=\"1\" class=\"dataframe\">\n",
       "  <thead>\n",
       "    <tr style=\"text-align: right;\">\n",
       "      <th></th>\n",
       "      <th>Accuracy</th>\n",
       "      <th>Jaccard Index</th>\n",
       "      <th>F1 Score</th>\n",
       "    </tr>\n",
       "  </thead>\n",
       "  <tbody>\n",
       "    <tr>\n",
       "      <th>KNN</th>\n",
       "      <td>0.818321</td>\n",
       "      <td>0.425121</td>\n",
       "      <td>0.59661</td>\n",
       "    </tr>\n",
       "  </tbody>\n",
       "</table>\n",
       "</div>"
      ],
      "text/plain": [
       "     Accuracy  Jaccard Index  F1 Score\n",
       "KNN  0.818321       0.425121   0.59661"
      ]
     },
     "execution_count": 35,
     "metadata": {},
     "output_type": "execute_result"
    }
   ],
   "source": [
    "reportdf1"
   ]
  },
  {
   "cell_type": "markdown",
   "metadata": {},
   "source": [
    "### Decision Tree\n"
   ]
  },
  {
   "cell_type": "markdown",
   "metadata": {},
   "source": [
    "#### Q9) Create and train a Decision Tree model called Tree using the training data (`x_train`, `y_train`).\n"
   ]
  },
  {
   "cell_type": "code",
   "execution_count": null,
   "metadata": {},
   "outputs": [],
   "source": [
    "#Enter Your Code, Execute and take the Screenshot"
   ]
  },
  {
   "cell_type": "code",
   "execution_count": 36,
   "metadata": {},
   "outputs": [],
   "source": [
    "Tree = DecisionTreeClassifier(criterion = \"entropy\", max_depth = 4)"
   ]
  },
  {
   "cell_type": "code",
   "execution_count": 37,
   "metadata": {},
   "outputs": [
    {
     "data": {
      "text/plain": [
       "DecisionTreeClassifier(criterion='entropy', max_depth=4)"
      ]
     },
     "execution_count": 37,
     "metadata": {},
     "output_type": "execute_result"
    }
   ],
   "source": [
    "Tree.fit(x_train, y_train)"
   ]
  },
  {
   "cell_type": "markdown",
   "metadata": {},
   "source": [
    "#### Q10) Now use the `predict` method on the testing data (`x_test`) and save it to the array `predictions`.\n"
   ]
  },
  {
   "cell_type": "code",
   "execution_count": null,
   "metadata": {},
   "outputs": [],
   "source": [
    "#Enter Your Code, Execute and take the Screenshot"
   ]
  },
  {
   "cell_type": "code",
   "execution_count": 38,
   "metadata": {},
   "outputs": [],
   "source": [
    "predTree = Tree.predict(x_test)"
   ]
  },
  {
   "cell_type": "markdown",
   "metadata": {},
   "source": [
    "#### Q11) Using the `predictions` and the `y_test` dataframe calculate the value for each metric using the appropriate function.\n"
   ]
  },
  {
   "cell_type": "code",
   "execution_count": null,
   "metadata": {},
   "outputs": [],
   "source": [
    "#Enter Your Code, Execute and take the Screenshot"
   ]
  },
  {
   "cell_type": "code",
   "execution_count": 39,
   "metadata": {},
   "outputs": [],
   "source": [
    "Tree_Accuracy_Score = metrics.accuracy_score(y_test, predTree) \n",
    "Tree_JaccardIndex = jaccard_score(y_test, predTree)\n",
    "Tree_F1_Score = metrics.f1_score(y_test, predTree)"
   ]
  },
  {
   "cell_type": "markdown",
   "metadata": {},
   "source": [
    "### Logistic Regression\n"
   ]
  },
  {
   "cell_type": "markdown",
   "metadata": {},
   "source": [
    "#### Q12) Use the `train_test_split` function to split the `features` and `Y` dataframes with a `test_size` of `0.2` and the `random_state` set to `1`.\n"
   ]
  },
  {
   "cell_type": "code",
   "execution_count": null,
   "metadata": {},
   "outputs": [],
   "source": [
    "#Enter Your Code, Execute and take the Screenshot"
   ]
  },
  {
   "cell_type": "code",
   "execution_count": 40,
   "metadata": {},
   "outputs": [],
   "source": [
    "x_train, x_test, y_train, y_test = train_test_split(features, Y, test_size = 0.2, random_state = 1)"
   ]
  },
  {
   "cell_type": "markdown",
   "metadata": {},
   "source": [
    "#### Q13) Create and train a LogisticRegression model called LR using the training data (`x_train`, `y_train`) with the `solver` parameter set to `liblinear`.\n"
   ]
  },
  {
   "cell_type": "code",
   "execution_count": null,
   "metadata": {},
   "outputs": [],
   "source": [
    "#Enter Your Code, Execute and take the Screenshot"
   ]
  },
  {
   "cell_type": "code",
   "execution_count": 41,
   "metadata": {},
   "outputs": [],
   "source": [
    "LR = LogisticRegression(solver = 'liblinear')"
   ]
  },
  {
   "cell_type": "code",
   "execution_count": 42,
   "metadata": {},
   "outputs": [
    {
     "data": {
      "text/plain": [
       "LogisticRegression(solver='liblinear')"
      ]
     },
     "execution_count": 42,
     "metadata": {},
     "output_type": "execute_result"
    }
   ],
   "source": [
    "LR.fit(x_train, y_train)"
   ]
  },
  {
   "cell_type": "markdown",
   "metadata": {},
   "source": [
    "#### Q14) Now, use the `predict` method on the testing data (`x_test`) and save it to the array `predictions`.\n"
   ]
  },
  {
   "cell_type": "code",
   "execution_count": null,
   "metadata": {},
   "outputs": [],
   "source": [
    "#Enter Your Code, Execute and take the Screenshot"
   ]
  },
  {
   "cell_type": "code",
   "execution_count": 43,
   "metadata": {},
   "outputs": [],
   "source": [
    "LRpred = LR.predict(x_test) "
   ]
  },
  {
   "cell_type": "markdown",
   "metadata": {},
   "source": [
    "#### Q15) Using the `predictions` and the `y_test` dataframe calculate the value for each metric using the appropriate function.\n"
   ]
  },
  {
   "cell_type": "code",
   "execution_count": null,
   "metadata": {},
   "outputs": [],
   "source": [
    "#Enter Your Code, Execute and take the Screenshot"
   ]
  },
  {
   "cell_type": "code",
   "execution_count": 44,
   "metadata": {},
   "outputs": [],
   "source": [
    "LR_Accuracy_Score = metrics.accuracy_score(y_test, LRpred)\n",
    "LR_JaccardIndex = jaccard_score(y_test, LRpred)\n",
    "LR_F1_Score = metrics.f1_score(y_test, LRpred)\n",
    "LR_Log_Loss = log_loss(y_test, LRpred)"
   ]
  },
  {
   "cell_type": "markdown",
   "metadata": {},
   "source": [
    "### SVM\n"
   ]
  },
  {
   "cell_type": "markdown",
   "metadata": {},
   "source": [
    "#### Q16) Create and train a SVM model called SVM using the training data (`x_train`, `y_train`).\n"
   ]
  },
  {
   "cell_type": "code",
   "execution_count": null,
   "metadata": {},
   "outputs": [],
   "source": [
    "#Enter Your Code, Execute and take the Screenshot"
   ]
  },
  {
   "cell_type": "code",
   "execution_count": 45,
   "metadata": {},
   "outputs": [],
   "source": [
    "SVM = svm.SVC(kernel = 'rbf')"
   ]
  },
  {
   "cell_type": "code",
   "execution_count": 46,
   "metadata": {},
   "outputs": [
    {
     "data": {
      "text/plain": [
       "SVC()"
      ]
     },
     "execution_count": 46,
     "metadata": {},
     "output_type": "execute_result"
    }
   ],
   "source": [
    "SVM.fit(x_train, y_train)"
   ]
  },
  {
   "cell_type": "markdown",
   "metadata": {},
   "source": [
    "#### Q17) Now use the `predict` method on the testing data (`x_test`) and save it to the array `predictions`.\n"
   ]
  },
  {
   "cell_type": "code",
   "execution_count": null,
   "metadata": {},
   "outputs": [],
   "source": [
    "#Enter Your Code, Execute and take the Screenshot"
   ]
  },
  {
   "cell_type": "code",
   "execution_count": 47,
   "metadata": {},
   "outputs": [],
   "source": [
    "SVMpred = SVM.predict(x_test) "
   ]
  },
  {
   "cell_type": "markdown",
   "metadata": {},
   "source": [
    "#### Q18) Using the `predictions` and the `y_test` dataframe calculate the value for each metric using the appropriate function.\n"
   ]
  },
  {
   "cell_type": "code",
   "execution_count": 48,
   "metadata": {},
   "outputs": [],
   "source": [
    "SVM_Accuracy_Score = metrics.accuracy_score(y_test, SVMpred)\n",
    "SVM_JaccardIndex = jaccard_score(y_test, SVMpred)\n",
    "SVM_F1_Score = metrics.f1_score(y_test, SVMpred)"
   ]
  },
  {
   "cell_type": "markdown",
   "metadata": {},
   "source": [
    "### Report\n"
   ]
  },
  {
   "cell_type": "markdown",
   "metadata": {},
   "source": [
    "#### Q19) Show the Accuracy,Jaccard Index,F1-Score and LogLoss in a tabular format using data frame for all of the above models.\n",
    "\n",
    "\\*LogLoss is only for Logistic Regression Model\n"
   ]
  },
  {
   "cell_type": "code",
   "execution_count": null,
   "metadata": {},
   "outputs": [],
   "source": [
    "#Enter Your Code, Execute and take the Screenshot"
   ]
  },
  {
   "cell_type": "code",
   "execution_count": 49,
   "metadata": {},
   "outputs": [],
   "source": [
    "Report = {'Accuracy' : [KNN_Accuracy_Score, Tree_Accuracy_Score, LR_Accuracy_Score, SVM_Accuracy_Score],\n",
    "         'Jaccard Index': [KNN_JaccardIndex, Tree_JaccardIndex, LR_JaccardIndex, SVM_JaccardIndex],\n",
    "         'F1-Score': [KNN_F1_Score, Tree_F1_Score, LR_F1_Score, SVM_F1_Score],\n",
    "         'LogLoss': ['Not Available For KNN','Not Available For DT', LR_Log_Loss, 'Not Available For SVM']}"
   ]
  },
  {
   "cell_type": "code",
   "execution_count": 50,
   "metadata": {},
   "outputs": [],
   "source": [
    "reportdflast = pd.DataFrame(data = Report)"
   ]
  },
  {
   "cell_type": "code",
   "execution_count": 51,
   "metadata": {},
   "outputs": [
    {
     "data": {
      "text/html": [
       "<div>\n",
       "<style scoped>\n",
       "    .dataframe tbody tr th:only-of-type {\n",
       "        vertical-align: middle;\n",
       "    }\n",
       "\n",
       "    .dataframe tbody tr th {\n",
       "        vertical-align: top;\n",
       "    }\n",
       "\n",
       "    .dataframe thead th {\n",
       "        text-align: right;\n",
       "    }\n",
       "</style>\n",
       "<table border=\"1\" class=\"dataframe\">\n",
       "  <thead>\n",
       "    <tr style=\"text-align: right;\">\n",
       "      <th></th>\n",
       "      <th>Accuracy</th>\n",
       "      <th>Jaccard Index</th>\n",
       "      <th>F1-Score</th>\n",
       "      <th>LogLoss</th>\n",
       "    </tr>\n",
       "  </thead>\n",
       "  <tbody>\n",
       "    <tr>\n",
       "      <th>0</th>\n",
       "      <td>0.818321</td>\n",
       "      <td>0.425121</td>\n",
       "      <td>0.596610</td>\n",
       "      <td>Not Available For KNN</td>\n",
       "    </tr>\n",
       "    <tr>\n",
       "      <th>1</th>\n",
       "      <td>0.818321</td>\n",
       "      <td>0.480349</td>\n",
       "      <td>0.648968</td>\n",
       "      <td>Not Available For DT</td>\n",
       "    </tr>\n",
       "    <tr>\n",
       "      <th>2</th>\n",
       "      <td>0.836641</td>\n",
       "      <td>0.509174</td>\n",
       "      <td>0.674772</td>\n",
       "      <td>5.642256</td>\n",
       "    </tr>\n",
       "    <tr>\n",
       "      <th>3</th>\n",
       "      <td>0.722137</td>\n",
       "      <td>0.000000</td>\n",
       "      <td>0.000000</td>\n",
       "      <td>Not Available For SVM</td>\n",
       "    </tr>\n",
       "  </tbody>\n",
       "</table>\n",
       "</div>"
      ],
      "text/plain": [
       "   Accuracy  Jaccard Index  F1-Score                LogLoss\n",
       "0  0.818321       0.425121  0.596610  Not Available For KNN\n",
       "1  0.818321       0.480349  0.648968   Not Available For DT\n",
       "2  0.836641       0.509174  0.674772               5.642256\n",
       "3  0.722137       0.000000  0.000000  Not Available For SVM"
      ]
     },
     "execution_count": 51,
     "metadata": {},
     "output_type": "execute_result"
    }
   ],
   "source": [
    "reportdflast"
   ]
  },
  {
   "cell_type": "code",
   "execution_count": 54,
   "metadata": {},
   "outputs": [],
   "source": [
    "index1={0: 'KNN',\n",
    "       1 : 'DT',\n",
    "       2 : 'LR',\n",
    "       3 : 'SVM'}"
   ]
  },
  {
   "cell_type": "code",
   "execution_count": 55,
   "metadata": {},
   "outputs": [],
   "source": [
    "reportdflast.rename(index = index1 , inplace = True)"
   ]
  },
  {
   "cell_type": "code",
   "execution_count": 56,
   "metadata": {},
   "outputs": [
    {
     "data": {
      "text/html": [
       "<div>\n",
       "<style scoped>\n",
       "    .dataframe tbody tr th:only-of-type {\n",
       "        vertical-align: middle;\n",
       "    }\n",
       "\n",
       "    .dataframe tbody tr th {\n",
       "        vertical-align: top;\n",
       "    }\n",
       "\n",
       "    .dataframe thead th {\n",
       "        text-align: right;\n",
       "    }\n",
       "</style>\n",
       "<table border=\"1\" class=\"dataframe\">\n",
       "  <thead>\n",
       "    <tr style=\"text-align: right;\">\n",
       "      <th></th>\n",
       "      <th>Accuracy</th>\n",
       "      <th>Jaccard Index</th>\n",
       "      <th>F1-Score</th>\n",
       "      <th>LogLoss</th>\n",
       "    </tr>\n",
       "  </thead>\n",
       "  <tbody>\n",
       "    <tr>\n",
       "      <th>KNN</th>\n",
       "      <td>0.818321</td>\n",
       "      <td>0.425121</td>\n",
       "      <td>0.596610</td>\n",
       "      <td>Not Available For KNN</td>\n",
       "    </tr>\n",
       "    <tr>\n",
       "      <th>DT</th>\n",
       "      <td>0.818321</td>\n",
       "      <td>0.480349</td>\n",
       "      <td>0.648968</td>\n",
       "      <td>Not Available For DT</td>\n",
       "    </tr>\n",
       "    <tr>\n",
       "      <th>LR</th>\n",
       "      <td>0.836641</td>\n",
       "      <td>0.509174</td>\n",
       "      <td>0.674772</td>\n",
       "      <td>5.642256</td>\n",
       "    </tr>\n",
       "    <tr>\n",
       "      <th>SVM</th>\n",
       "      <td>0.722137</td>\n",
       "      <td>0.000000</td>\n",
       "      <td>0.000000</td>\n",
       "      <td>Not Available For SVM</td>\n",
       "    </tr>\n",
       "  </tbody>\n",
       "</table>\n",
       "</div>"
      ],
      "text/plain": [
       "     Accuracy  Jaccard Index  F1-Score                LogLoss\n",
       "KNN  0.818321       0.425121  0.596610  Not Available For KNN\n",
       "DT   0.818321       0.480349  0.648968   Not Available For DT\n",
       "LR   0.836641       0.509174  0.674772               5.642256\n",
       "SVM  0.722137       0.000000  0.000000  Not Available For SVM"
      ]
     },
     "execution_count": 56,
     "metadata": {},
     "output_type": "execute_result"
    }
   ],
   "source": [
    "reportdflast"
   ]
  },
  {
   "cell_type": "markdown",
   "metadata": {},
   "source": [
    "<h2 id=\"Section_5\">  How to submit </h2>\n",
    "\n",
    "<p>Once you complete your notebook you will have to share it. You can download the notebook by navigating to \"File\" and clicking on \"Download\" button.\n",
    "\n",
    "<p>This will save the (.ipynb) file on your computer. Once saved, you can upload this file in the \"My Submission\" tab, of the \"Peer-graded Assignment\" section.  \n"
   ]
  },
  {
   "cell_type": "markdown",
   "metadata": {},
   "source": [
    "<h2>About the Authors:</h2> \n",
    "\n",
    "<a href=\"https://www.linkedin.com/in/joseph-s-50398b136/?utm_medium=Exinfluencer&utm_source=Exinfluencer&utm_content=000026UJ&utm_term=10006555&utm_id=NA-SkillsNetwork-Channel-SkillsNetworkCoursesIBMDeveloperSkillsNetworkML0101ENSkillsNetwork20718538-2022-01-01\">Joseph Santarcangelo</a> has a PhD in Electrical Engineering, his research focused on using machine learning, signal processing, and computer vision to determine how videos impact human cognition. Joseph has been working for IBM since he completed his PhD.\n",
    "\n",
    "### Other Contributors\n",
    "\n",
    "<a href=\"https://www.linkedin.com/in/birlahimanshu/?utm_medium=Exinfluencer&utm_source=Exinfluencer&utm_content=000026UJ&utm_term=10006555&utm_id=NA-SkillsNetwork-Channel-SkillsNetworkCoursesIBMDeveloperSkillsNetworkML0101ENSkillsNetwork20718538-2022-01-01\" target=\"_blank\">Himanshu Birla</a>\n"
   ]
  },
  {
   "cell_type": "markdown",
   "metadata": {},
   "source": [
    "## Change Log\n",
    "\n",
    "| Date (YYYY-MM-DD) | Version | Changed By    | Change Description          |\n",
    "| ----------------- | ------- | ------------- | --------------------------- |\n",
    "| 2020-08-27        | 1.0     | Malika Singla | Added lab to GitLab         |\n",
    "| 2022-06-22        | 2.0     | Lana K.       | Deleted GridSearch and Mock |\n",
    "| <hr>              |         |               |                             |\n",
    "\n",
    "## <h3 align=\"center\"> © IBM Corporation 2020. All rights reserved. <h3/>\n"
   ]
  }
 ],
 "metadata": {
  "kernelspec": {
   "display_name": "Python 3 (ipykernel)",
   "language": "python",
   "name": "python3"
  },
  "language_info": {
   "codemirror_mode": {
    "name": "ipython",
    "version": 3
   },
   "file_extension": ".py",
   "mimetype": "text/x-python",
   "name": "python",
   "nbconvert_exporter": "python",
   "pygments_lexer": "ipython3",
   "version": "3.9.12"
  }
 },
 "nbformat": 4,
 "nbformat_minor": 4
}
